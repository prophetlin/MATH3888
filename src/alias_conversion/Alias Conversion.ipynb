{
 "cells": [
  {
   "cell_type": "code",
   "execution_count": 1,
   "id": "7cf7d595",
   "metadata": {},
   "outputs": [],
   "source": [
    "#read compressed file and save it as an uncompressed file without header\n",
    "\n",
    "# file_name = '4932.protein.links.v11.5'\n",
    "file_name = '4932.protein.aliases.v11.5'\n",
    "\n",
    "import gzip\n",
    "with gzip.open(file_name + '.txt.gz', 'rt') as f:\n",
    "    file_content_plus_header = f.read()\n",
    "    file_content = '\\n'.join(file_content_plus_header.split('\\n')[1:])\n",
    "    uncompressed_file = open(file_name + '.txt','w+')\n",
    "    uncompressed_file.write(file_content)\n",
    "    uncompressed_file.close()\n",
    "    "
   ]
  },
  {
   "cell_type": "code",
   "execution_count": 10,
   "id": "ef8ab3d3",
   "metadata": {},
   "outputs": [
    {
     "name": "stdout",
     "output_type": "stream",
     "text": [
      "{'4932.YGR241C': 'YAP1802'}\n",
      "{'4932.YGR241C': 'YAP1802', '4932.YLL001W': 'DNM1'}\n"
     ]
    }
   ],
   "source": [
    "#convert between protein naming schemes\n",
    "\n",
    "# get the name the biologists use from the name used in networkX\n",
    "def get_protein_aliases(protein_codes, alias_type='BLAST_UniProt_GN_Name'):\n",
    "    \n",
    "    matched_dict = {}\n",
    "    \n",
    "    f = open(\"4932.protein.aliases.v11.5.txt\", \"r\")\n",
    "    for x in f:\n",
    "        words = x.split()\n",
    "        if (words[2] == alias_type): \n",
    "              if words[0] in protein_codes:\n",
    "                    matched_dict[words[0]] = words[1]          \n",
    "    f.close() \n",
    "    \n",
    "    return matched_dict\n",
    "\n",
    "\n",
    "# get the name used in networkX from the name the biologists use\n",
    "def get_protein_codes(aliases, alias_type='BLAST_UniProt_GN_Name'):\n",
    "    \n",
    "    matched_dict = {}\n",
    "    \n",
    "    f = open(\"4932.protein.aliases.v11.5.txt\", \"r\")\n",
    "    for x in f:\n",
    "        words = x.split()\n",
    "        if (words[2] == alias_type): \n",
    "              if words[1] in aliases:\n",
    "                    matched_dict[words[0]] = words[1]          \n",
    "    f.close() \n",
    "    \n",
    "    return matched_dict\n",
    "\n",
    "\n",
    "\n",
    "# For example:\n",
    "names = get_protein_aliases(['4932.YGR241C'])\n",
    "print(names)\n",
    "\n",
    "names = get_protein_codes(['YAP1802','DNM1'])\n",
    "print(names)\n"
   ]
  },
  {
   "cell_type": "code",
   "execution_count": null,
   "id": "3f35c5fa",
   "metadata": {},
   "outputs": [],
   "source": []
  }
 ],
 "metadata": {
  "kernelspec": {
   "display_name": "Python 3",
   "language": "python",
   "name": "python3"
  },
  "language_info": {
   "codemirror_mode": {
    "name": "ipython",
    "version": 3
   },
   "file_extension": ".py",
   "mimetype": "text/x-python",
   "name": "python",
   "nbconvert_exporter": "python",
   "pygments_lexer": "ipython3",
   "version": "3.8.11"
  }
 },
 "nbformat": 4,
 "nbformat_minor": 5
}
